{
 "cells": [
  {
   "cell_type": "code",
   "execution_count": 19,
   "metadata": {},
   "outputs": [],
   "source": [
    "import numpy as np\n",
    "import pandas as pd\n",
    "import requests,zipfile,io,datetime,os\n",
    "from progressbar import ProgressBar"
   ]
  },
  {
   "cell_type": "markdown",
   "metadata": {},
   "source": [
    "## Call Kragha function and pass in the file name. In this case we conside the jupyter file is created in same location where the source file is present."
   ]
  },
  {
   "cell_type": "code",
   "execution_count": 245,
   "metadata": {},
   "outputs": [],
   "source": [
    "def kragha(file):\n",
    "    timer = datetime.datetime.now()\n",
    "    pbar = ProgressBar(maxval=1)\n",
    "    df = pd.read_excel(file)\n",
    "    Agreement_list = []\n",
    "    Status_list = []\n",
    "    unsuccess = pd.DataFrame(columns= ['Agreement', 'Status'])\n",
    "    for n in pbar(df.index):\n",
    "        Agreement = str(df['agreement_id'][n])\n",
    "        url = df['Links'][n]\n",
    "        invoice_id = df['InvoiceId'][n]\n",
    "        period = df['Period'][n].split()\n",
    "        period = '_'.join(period)\n",
    "        reporttype = df['ReportType'][n].split()\n",
    "        reporttype = \"_\".join(reporttype)\n",
    "        Agreement = str(df['agreement_id'][n])\n",
    "        Agreement_list.append(Agreement)\n",
    "        filename1 = invoice_id+'_'+ period +'_'+ reporttype\n",
    "        r = requests.get(url)\n",
    "        if r.status_code == 200:\n",
    "#             Agreement_list.append(Agreement)\n",
    "            Status_list.append('Success')\n",
    "            print(\"success\")\n",
    "            cd = os.getcwd()+\"\\\\\"\n",
    "            if Agreement not in Agreement_list:\n",
    "                os.mkdir(cd+Agreement)\n",
    "                new_dir = os.getcwd() + \"\\\\\" + Agreement\n",
    "                z = zipfile.ZipFile(io.BytesIO(r.content))\n",
    "                z.extractall(new_dir)\n",
    "            else:\n",
    "                new_dir = os.getcwd() + \"\\\\\" + Agreement\n",
    "                z = zipfile.ZipFile(io.BytesIO(r.content))\n",
    "                z.extractall(new_dir)\n",
    "        else:\n",
    "            Status_list.append('Unsuccessfull')\n",
    "#             Agreement_list.append(Agreement)\n",
    "            print(\"unsuccessfull\")\n",
    "\n",
    "    timerout = datetime.datetime.now()\n",
    "    totaltime = timerout - timer\n",
    "    print(f\"I started at {timer} and now completed at {timerout} and total time taken is {totaltime}\") \n",
    "    print(Status_list)\n",
    "#     unsuccess['Agreement'] = Agreement_list\n",
    "#     unsuccess['Status'] = Status_list\n",
    "#     cd = os.getcwd()+\"\\\\\"\n",
    "#     os.mkdir(cd+file)\n",
    "#     unsuccess.to_excel(\"Status update\")    "
   ]
  },
  {
   "cell_type": "markdown",
   "metadata": {},
   "source": [
    "## Example file calling method"
   ]
  },
  {
   "cell_type": "code",
   "execution_count": 246,
   "metadata": {},
   "outputs": [
    {
     "name": "stderr",
     "output_type": "stream",
     "text": [
      " 20% |##############                                                          |\r"
     ]
    },
    {
     "name": "stdout",
     "output_type": "stream",
     "text": [
      "success\n"
     ]
    },
    {
     "name": "stderr",
     "output_type": "stream",
     "text": [
      " 40% |############################                                            |\r"
     ]
    },
    {
     "name": "stdout",
     "output_type": "stream",
     "text": [
      "success\n"
     ]
    },
    {
     "name": "stderr",
     "output_type": "stream",
     "text": [
      " 60% |###########################################                             |\r"
     ]
    },
    {
     "name": "stdout",
     "output_type": "stream",
     "text": [
      "success\n"
     ]
    },
    {
     "name": "stderr",
     "output_type": "stream",
     "text": [
      " 80% |#########################################################               |\r"
     ]
    },
    {
     "name": "stdout",
     "output_type": "stream",
     "text": [
      "success\n"
     ]
    },
    {
     "name": "stderr",
     "output_type": "stream",
     "text": [
      "100% |########################################################################|\r"
     ]
    },
    {
     "name": "stdout",
     "output_type": "stream",
     "text": [
      "unsuccessfull\n",
      "I started at 2020-12-03 00:52:17.349438 and now completed at 2020-12-03 00:52:35.067654 and total time taken is 0:00:17.718216\n",
      "['Success', 'Success', 'Success', 'Success', 'Unsuccessfull']\n"
     ]
    },
    {
     "name": "stderr",
     "output_type": "stream",
     "text": [
      "\n"
     ]
    }
   ],
   "source": [
    "kragha('test.xlsx')"
   ]
  },
  {
   "cell_type": "code",
   "execution_count": null,
   "metadata": {},
   "outputs": [],
   "source": []
  },
  {
   "cell_type": "code",
   "execution_count": null,
   "metadata": {},
   "outputs": [],
   "source": []
  },
  {
   "cell_type": "markdown",
   "metadata": {},
   "source": [
    "## Rough"
   ]
  },
  {
   "cell_type": "code",
   "execution_count": 108,
   "metadata": {},
   "outputs": [],
   "source": [
    "# cd = os.getcwd()+\"\\\\\"\n",
    "# os.mkdir(cd+Agreement+\"\\\\\")\n",
    "# new = os.getcwd() + \"\\\\\" + Agreement\n",
    "# r = requests.get(\"http://vault-contracogs.amazon.com/vault//com.amazon.contracogs.agreementbackups/599e0d2f-86a1-4c5d-a5d7-b73a9a4128dc.zip\")\n",
    "# z = zipfile.ZipFile(io.BytesIO(r.content))\n",
    "# z.extractall(new)\n",
    "\n"
   ]
  },
  {
   "cell_type": "code",
   "execution_count": null,
   "metadata": {},
   "outputs": [],
   "source": []
  },
  {
   "cell_type": "code",
   "execution_count": null,
   "metadata": {},
   "outputs": [],
   "source": [
    "\n"
   ]
  },
  {
   "cell_type": "code",
   "execution_count": null,
   "metadata": {},
   "outputs": [],
   "source": []
  },
  {
   "cell_type": "code",
   "execution_count": null,
   "metadata": {},
   "outputs": [],
   "source": []
  },
  {
   "cell_type": "code",
   "execution_count": null,
   "metadata": {},
   "outputs": [],
   "source": []
  }
 ],
 "metadata": {
  "kernelspec": {
   "display_name": "Python 3",
   "language": "python",
   "name": "python3"
  },
  "language_info": {
   "codemirror_mode": {
    "name": "ipython",
    "version": 3
   },
   "file_extension": ".py",
   "mimetype": "text/x-python",
   "name": "python",
   "nbconvert_exporter": "python",
   "pygments_lexer": "ipython3",
   "version": "3.7.4"
  }
 },
 "nbformat": 4,
 "nbformat_minor": 2
}
